{
 "cells": [
  {
   "cell_type": "code",
   "execution_count": null,
   "metadata": {},
   "outputs": [],
   "source": [
    "# maximum flow\n",
    "\n",
    "Graph = list[list[int]]\n",
    "\n",
    "def maximum_flow(capacity: Graph, n: int, start: int, end: int):\n",
    "    flow = [[0 for _ in range(n)] for _ in range(n)]\n",
    "\n",
    "    flows = 0\n",
    "    while True:\n",
    "\n",
    "\n",
    "        ...\n",
    "\n",
    "\n",
    "\n",
    "    ...\n",
    "\n",
    "\n",
    "def dfs(\n",
    "        capacity: Graph, flow: Graph, \n",
    "        explored: list[bool], \n",
    "        path: list[int], n: int,\n",
    "        node: int, target: int\n",
    ") -> bool:\n",
    "    if node == target:\n",
    "        return True\n",
    "    \n",
    "    for i in range(n):\n",
    "        pass\n"
   ]
  },
  {
   "cell_type": "code",
   "execution_count": null,
   "metadata": {},
   "outputs": [],
   "source": []
  }
 ],
 "metadata": {
  "language_info": {
   "name": "python"
  },
  "orig_nbformat": 4
 },
 "nbformat": 4,
 "nbformat_minor": 2
}
