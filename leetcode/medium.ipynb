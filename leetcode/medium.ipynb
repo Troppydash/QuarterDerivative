{
 "cells": [
  {
   "cell_type": "code",
   "execution_count": null,
   "metadata": {},
   "outputs": [],
   "source": [
    "# 2 Add Two Numbers\n",
    "\n",
    "from typing import Optional\n",
    "\n",
    "class ListNode:\n",
    "    def __init__(self, val=0, next=None):\n",
    "        self.val = val\n",
    "        self.next = next\n",
    "\n",
    "def addTwoNumbers(l1: Optional[ListNode], l2: Optional[ListNode]) -> Optional[ListNode]:\n",
    "    totalroot, currentnode = None, None\n",
    "\n",
    "    carry = 0\n",
    "    l1digit = l1  # can be None\n",
    "    l2digit = l2  # can be None\n",
    "    while not (l1digit is None and l2digit is None):\n",
    "        l1v = l1digit.val if l1digit is not None else 0\n",
    "        l2v = l2digit.val if l2digit is not None else 0\n",
    "\n",
    "        _sum = l1v + l2v + carry\n",
    "        c, r = _sum // 10, _sum % 10\n",
    "        carry = c\n",
    "\n",
    "        if totalroot is None:\n",
    "            totalroot = ListNode(r)\n",
    "            currentnode = totalroot\n",
    "        else:\n",
    "            currentnode.next = ListNode(r)\n",
    "            currentnode = currentnode.next\n",
    "\n",
    "        if l1digit is not None:\n",
    "            l1digit = l1digit.next\n",
    "        if l2digit is not None:\n",
    "            l2digit = l2digit.next\n",
    "    \n",
    "    if carry != 0:\n",
    "        currentnode.next = ListNode(carry)\n",
    "\n",
    "    return totalroot"
   ]
  },
  {
   "cell_type": "code",
   "execution_count": null,
   "metadata": {},
   "outputs": [],
   "source": [
    "# 3 longest substring without repeating characters\n",
    "\n",
    "def lengthOfLongestSubstring(s: str) -> int:\n",
    "    longest = 0\n",
    "    storage = []\n",
    "    for char in s:\n",
    "        if char in storage:\n",
    "            # find the index, remove until that\n",
    "            repeatindex = storage.index(char)\n",
    "            storage = storage[repeatindex+1:]\n",
    "\n",
    "        storage.append(char)\n",
    "        longest = max(longest, len(storage))\n",
    "    return longest\n",
    "\n",
    "\n",
    "lengthOfLongestSubstring(\"pwwkew\")"
   ]
  },
  {
   "cell_type": "code",
   "execution_count": 6,
   "metadata": {},
   "outputs": [
    {
     "data": {
      "text/plain": [
       "2"
      ]
     },
     "execution_count": 6,
     "metadata": {},
     "output_type": "execute_result"
    }
   ],
   "source": [
    "def find_dup(nums: list[int]) -> int:\n",
    "    low = 1\n",
    "    high = len(nums)\n",
    "\n",
    "    while low + 1 < high:\n",
    "        mid = (low + high) // 2\n",
    "\n",
    "        count = 0\n",
    "        for n in nums:\n",
    "            if n < mid:\n",
    "                count += 1\n",
    "\n",
    "        expected = mid - 1\n",
    "        if count > expected:\n",
    "            high = mid\n",
    "        else:\n",
    "            low = mid\n",
    "\n",
    "    return low\n",
    "\n",
    "\n",
    "def find_dup_linear(nums: list[int]) -> int:\n",
    "    fast = 0\n",
    "    slow = 0\n",
    "\n",
    "    # first detect the loop\n",
    "    while True:\n",
    "        slow = nums[slow]\n",
    "        fast = nums[nums[fast]]\n",
    "\n",
    "        if slow == fast:\n",
    "            break\n",
    "\n",
    "    # slow and fast will meet at the start of the loop\n",
    "    slow = 0\n",
    "    while slow != fast:\n",
    "        slow = nums[slow]\n",
    "        fast = nums[fast]\n",
    "\n",
    "    return slow\n",
    "\n",
    "find_dup_linear([1, 2, 3, 2])"
   ]
  },
  {
   "cell_type": "code",
   "execution_count": null,
   "metadata": {},
   "outputs": [],
   "source": []
  }
 ],
 "metadata": {
  "kernelspec": {
   "display_name": "Python 3.9.7 ('scientific')",
   "language": "python",
   "name": "python3"
  },
  "language_info": {
   "codemirror_mode": {
    "name": "ipython",
    "version": 3
   },
   "file_extension": ".py",
   "mimetype": "text/x-python",
   "name": "python",
   "nbconvert_exporter": "python",
   "pygments_lexer": "ipython3",
   "version": "3.10.10"
  },
  "orig_nbformat": 4,
  "vscode": {
   "interpreter": {
    "hash": "64b29409bd62c2368b0e7ef08996fa1e527d3d64735fab741571f69825739a65"
   }
  }
 },
 "nbformat": 4,
 "nbformat_minor": 2
}
