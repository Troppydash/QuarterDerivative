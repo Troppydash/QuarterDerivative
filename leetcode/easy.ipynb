{
 "cells": [
  {
   "cell_type": "code",
   "execution_count": null,
   "metadata": {},
   "outputs": [],
   "source": [
    "# 263 ugly number\n",
    "\n",
    "def isUgly(n: int) -> bool:\n",
    "    if n <= 0:\n",
    "            return False\n",
    "\n",
    "    opN = abs(n)\n",
    "\n",
    "    # keep on dividing by 2, 3, 5\n",
    "    while True:\n",
    "        for d in [2, 3, 5]:\n",
    "            if opN % d == 0:\n",
    "                opN = opN / d\n",
    "                break\n",
    "        else:\n",
    "            break\n",
    "\n",
    "    return opN == 1\n",
    "\n",
    "\n",
    "isUgly(2147483648)\n"
   ]
  },
  {
   "cell_type": "code",
   "execution_count": null,
   "metadata": {},
   "outputs": [],
   "source": [
    "# 1 two sum\n",
    "\n",
    "from typing import List\n",
    "\n",
    "\n",
    "def twoSum(nums: List[int], target: int) -> List[int]:\n",
    "    i, j = 0, 1\n",
    "\n",
    "    for i in range(len(nums)):\n",
    "        for j in range(i+1, len(nums)):\n",
    "            if nums[i] + nums[j] == target:\n",
    "                return [i, j]\n",
    "\n",
    "    raise Exception(\"error\")\n",
    "\n",
    "\n",
    "twoSum([2, 7, 11, 15], 9)\n",
    "        \n",
    "        \n",
    "\n",
    "\n",
    "\n"
   ]
  },
  {
   "cell_type": "code",
   "execution_count": null,
   "metadata": {},
   "outputs": [],
   "source": []
  }
 ],
 "metadata": {
  "kernelspec": {
   "display_name": "Python 3.9.7 ('scientific')",
   "language": "python",
   "name": "python3"
  },
  "language_info": {
   "codemirror_mode": {
    "name": "ipython",
    "version": 3
   },
   "file_extension": ".py",
   "mimetype": "text/x-python",
   "name": "python",
   "nbconvert_exporter": "python",
   "pygments_lexer": "ipython3",
   "version": "3.9.7"
  },
  "orig_nbformat": 4,
  "vscode": {
   "interpreter": {
    "hash": "64b29409bd62c2368b0e7ef08996fa1e527d3d64735fab741571f69825739a65"
   }
  }
 },
 "nbformat": 4,
 "nbformat_minor": 2
}
