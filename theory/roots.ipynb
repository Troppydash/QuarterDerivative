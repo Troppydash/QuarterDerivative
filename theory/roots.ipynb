{
 "cells": [
  {
   "cell_type": "code",
   "execution_count": 5,
   "metadata": {},
   "outputs": [
    {
     "data": {
      "text/plain": [
       "[0, 18, -9]"
      ]
     },
     "execution_count": 5,
     "metadata": {},
     "output_type": "execute_result"
    }
   ],
   "source": [
    "# here is an integer polynomial root finding algorithm\n",
    "\n",
    "\n",
    "Poly = list[int]\n",
    "\n",
    "def eval_poly(poly: Poly, x: float) -> float:\n",
    "    return sum(\n",
    "        a * x**i for i, a in enumerate(poly)\n",
    "    )\n",
    "\n",
    "def divides(a: int, b: int):\n",
    "    if abs(a) == 0:\n",
    "        return True\n",
    "    \n",
    "    return abs(b) % abs(a) == 0\n",
    "\n",
    "def find_roots_int(poly: Poly):\n",
    "    assert len(poly) > 0\n",
    "\n",
    "    for c in poly:\n",
    "        if c != 0:\n",
    "            c0 = c\n",
    "            break\n",
    "    else:\n",
    "        raise Exception('failed to find a lower,upper bound')\n",
    "    \n",
    "    factors = list(filter(lambda test: divides(test, c0), range(-abs(c0), abs(c0)+1)))\n",
    "    \n",
    "    roots = []\n",
    "    while len(factors) > 0:\n",
    "        a = factors.pop(len(factors) // 2)\n",
    "        pa = eval_poly(poly, a)\n",
    "\n",
    "        if pa == 0:\n",
    "            roots.append(a)\n",
    "            continue\n",
    "\n",
    "        factors = list(filter(lambda fac: divides(fac - a, pa), factors))\n",
    "\n",
    "    return roots\n",
    "\n",
    "find_roots_int([0, -162, -9, 1])\n",
    "\n"
   ]
  },
  {
   "cell_type": "code",
   "execution_count": 39,
   "metadata": {},
   "outputs": [
    {
     "data": {
      "text/plain": [
       "[-1.6775763420583971, 1.018368155905863, 1.8283933054471482]"
      ]
     },
     "execution_count": 39,
     "metadata": {},
     "output_type": "execute_result"
    }
   ],
   "source": [
    "\n",
    "def sign(x):\n",
    "    if x >= 0:\n",
    "        return 1\n",
    "    return -1\n",
    "\n",
    "def diff_poly(poly: Poly):\n",
    "    out = []\n",
    "    for i in range(1, len(poly)):\n",
    "        out.append(poly[i] * i)\n",
    "\n",
    "    return out\n",
    "\n",
    "\n",
    "MAX, MIN = 1000, -1000\n",
    "EPS = 0.000001\n",
    "EPS2 = 0.001\n",
    "def find_roots(poly: Poly):\n",
    "\n",
    "    # for the base cases\n",
    "    if len(poly) == 1:\n",
    "        raise Exception('cannot find roots of a constant polynomial')\n",
    "    \n",
    "    if len(poly) == 2:\n",
    "        # solve for x in a+bx=0\n",
    "        a, b = poly\n",
    "        return [-a / b]\n",
    "    \n",
    "\n",
    "    # find min/max peeks, which are exactly the roots of the diff(P(x))\n",
    "    roots = find_roots(diff_poly(poly))\n",
    "    \n",
    "    # extend with MIN (-1000) and MAX (1000), these are arbitary\n",
    "    extended_roots = [MIN, *roots, MAX]\n",
    "\n",
    "    # perform bisection method for each pair of roots\n",
    "    output = []\n",
    "    for i in range(len(extended_roots)-1):\n",
    "        left = extended_roots[i]\n",
    "        right = extended_roots[i+1]\n",
    "\n",
    "        left_eval = eval_poly(poly, left)\n",
    "        while abs(left - right) > EPS:\n",
    "            middle = (left + right) / 2\n",
    "            value = eval_poly(poly, middle)\n",
    "            \n",
    "            if sign(value) == sign(left_eval):\n",
    "                left = middle\n",
    "                left_eval = value\n",
    "            else:\n",
    "                right = middle\n",
    "        \n",
    "        # if it is actually a root\n",
    "        if abs(eval_poly(poly, left)) < EPS2:\n",
    "            output.append(left)\n",
    "\n",
    "\n",
    "    return output\n",
    "\n",
    "\n",
    "    \n",
    "\n",
    "# find_roots([0, -162, -9, 1])\n",
    "# find_roots([-162, -18, 3])\n",
    "find_roots([2, 0, 1, -3, -1, 1, 0.1])\n",
    "\n",
    "    \n"
   ]
  },
  {
   "cell_type": "code",
   "execution_count": 7,
   "metadata": {},
   "outputs": [
    {
     "data": {
      "text/plain": [
       "[['B', 'G', 'B'], ['G', 'B', 'Y'], ['G', 'G', 'Y']]"
      ]
     },
     "execution_count": 7,
     "metadata": {},
     "output_type": "execute_result"
    }
   ],
   "source": []
  },
  {
   "cell_type": "code",
   "execution_count": 2,
   "metadata": {},
   "outputs": [
    {
     "name": "stdout",
     "output_type": "stream",
     "text": [
      "2\n"
     ]
    }
   ],
   "source": []
  },
  {
   "cell_type": "code",
   "execution_count": null,
   "metadata": {},
   "outputs": [],
   "source": []
  }
 ],
 "metadata": {
  "kernelspec": {
   "display_name": "scientific310",
   "language": "python",
   "name": "python3"
  },
  "language_info": {
   "codemirror_mode": {
    "name": "ipython",
    "version": 3
   },
   "file_extension": ".py",
   "mimetype": "text/x-python",
   "name": "python",
   "nbconvert_exporter": "python",
   "pygments_lexer": "ipython3",
   "version": "3.10.10"
  },
  "orig_nbformat": 4
 },
 "nbformat": 4,
 "nbformat_minor": 2
}
