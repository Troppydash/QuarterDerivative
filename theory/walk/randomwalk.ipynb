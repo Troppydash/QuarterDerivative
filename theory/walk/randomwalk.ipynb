{
 "cells": [
  {
   "cell_type": "code",
   "execution_count": 1,
   "metadata": {},
   "outputs": [],
   "source": [
    "import numpy as np\n",
    "import random\n",
    "import matplotlib.pyplot as plt\n",
    "import scipy.stats as st\n",
    "\n",
    "\n",
    "%matplotlib inline\n"
   ]
  },
  {
   "cell_type": "code",
   "execution_count": 2,
   "metadata": {},
   "outputs": [],
   "source": [
    "\n",
    "\n",
    "def bernoulli_random_walk(p = 0.5, a = 1, b = 0):\n",
    "    start = 0\n",
    "\n",
    "    while True:\n",
    "        yield start\n",
    "        if random.random() > p:\n",
    "            start += a\n",
    "        else:\n",
    "            start += b\n",
    "\n",
    "\n",
    "def normal_random_walk(init = 1, mean = 0.001, sd = 0.001):\n",
    "    value = init\n",
    "\n",
    "    while True:\n",
    "        yield value\n",
    "\n",
    "        value *= (np.random.normal(mean, sd) + 1)\n",
    "\n",
    "def take(gen, n):\n",
    "    it = iter(gen)\n",
    "    out = []\n",
    "    for i in range(n):\n",
    "        out.append(next(it))\n",
    "\n",
    "    return out\n"
   ]
  },
  {
   "cell_type": "code",
   "execution_count": 29,
   "metadata": {},
   "outputs": [],
   "source": [
    "\n",
    "def graph_random_walk(wk, n = 10, m = 1000, *args, **kwargs):\n",
    "    xs = np.arange(m)\n",
    "\n",
    "    for i in range(n):\n",
    "        ys = take(wk(*args, **kwargs), m)\n",
    "        plt.plot(xs, ys)\n",
    "\n",
    "    plt.show()\n",
    "    \n",
    "    # a = -1\n",
    "    # b = 2\n",
    "    # p = 0.25\n",
    "    # lowerbound = 0 + xs * (b * p + (1-p) * a) - 3 * np.sqrt(xs * (b-a)**2 * p * (1-p))\n",
    "    # upperbound = 0 + xs * (b * p + (1-p) * a) + 3 * np.sqrt(xs * (b-a)**2 * p * (1-p))\n",
    "\n",
    "    # plt.plot(xs, lowerbound)\n",
    "    # plt.plot(xs, upperbound)\n",
    "\n",
    "\n",
    "def graph_distribution(wk, n=1000, m=1000, width=0.5, *args, **kwargs):\n",
    "    ys = []\n",
    "\n",
    "    for _ in range(n):\n",
    "        ys.append(take(wk(*args, **kwargs), m)[-1])\n",
    "\n",
    "    plt.hist(ys, bins=np.arange(min(ys), max(ys) + width, width), density=True)\n",
    "    plt.show()\n",
    "\n",
    "\n",
    "def mean_random_walk(wk, n = 100, m = 100, *args, **kwargs):\n",
    "    total = []\n",
    "    for i in range(n):\n",
    "        value = take(wk(*args, **kwargs), m)[-1]\n",
    "        total.append(value)\n",
    "\n",
    "    return sum(total)/n"
   ]
  },
  {
   "cell_type": "code",
   "execution_count": 28,
   "metadata": {},
   "outputs": [
    {
     "data": {
      "image/png": "[encoded data removed]",
      "text/plain": [
       "<Figure size 640x480 with 1 Axes>"
      ]
     },
     "metadata": {},
     "output_type": "display_data"
    }
   ],
   "source": [
    "# graph_random_walk(normal_random_walk, n=50, sd=0.01)\n",
    "\n",
    "# graph expected outcome\n",
    "i = 1\n",
    "t = 10\n",
    "mean = 0.02\n",
    "sd = 0.1\n",
    "\n",
    "\n",
    "xs = np.arange(0, 6, 0.01)\n",
    "ys = st.lognorm.pdf(xs, scale=np.exp(t*mean)*i, s=np.sqrt(t)*sd)\n",
    "plt.plot(xs, ys)\n",
    "plt.xlim(-0.5, 6)\n",
    "\n",
    "\n",
    "# m = 50\n",
    "# mean = (1+mean)**(1/m)-1\n",
    "# sd = sd / np.sqrt(m)\n",
    "# t = t * m\n",
    "graph_distribution(normal_random_walk, n=2000, m=t, sd=sd, mean=mean, init=i, width=0.2)"
   ]
  },
  {
   "cell_type": "code",
   "execution_count": 43,
   "metadata": {},
   "outputs": [
    {
     "data": {
      "text/plain": [
       "1.1981812659668218"
      ]
     },
     "execution_count": 43,
     "metadata": {},
     "output_type": "execute_result"
    }
   ],
   "source": [
    "mean_random_walk(normal_random_walk, mean=0.02, sd=0.1, m=10, n=10000)"
   ]
  },
  {
   "cell_type": "code",
   "execution_count": null,
   "metadata": {},
   "outputs": [],
   "source": []
  }
 ],
 "metadata": {
  "kernelspec": {
   "display_name": "scientific310",
   "language": "python",
   "name": "python3"
  },
  "language_info": {
   "codemirror_mode": {
    "name": "ipython",
    "version": 3
   },
   "file_extension": ".py",
   "mimetype": "text/x-python",
   "name": "python",
   "nbconvert_exporter": "python",
   "pygments_lexer": "ipython3",
   "version": "3.10.10"
  },
  "orig_nbformat": 4
 },
 "nbformat": 4,
 "nbformat_minor": 2
}
