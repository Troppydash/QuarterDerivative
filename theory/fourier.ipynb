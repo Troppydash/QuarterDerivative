{
 "cells": [
  {
   "cell_type": "code",
   "execution_count": null,
   "metadata": {},
   "outputs": [],
   "source": [
    "using Plots"
   ]
  },
  {
   "cell_type": "code",
   "execution_count": null,
   "metadata": {},
   "outputs": [],
   "source": [
    "# simple integration, does not accept infty as bounds\n",
    "function simpleintegration(fn, a, b; dx = 0.01)\n",
    "    return sum(\n",
    "        (fn(x)+fn(x+dx)) * dx / 2 for x in a:dx:(b-dx)\n",
    "    )\n",
    "end"
   ]
  },
  {
   "cell_type": "code",
   "execution_count": null,
   "metadata": {},
   "outputs": [],
   "source": [
    "using Base: create_expr_cache\n",
    "# try fourier series\n",
    "\n",
    "function fstimetofreq(fn, freq, range, period)\n",
    "    # return the fourier series frequency domain value\n",
    "    return simpleintegration(\n",
    "        t -> fn(t) * exp(-1im * 2π / period * freq * t),\n",
    "        range[1], range[end]\n",
    "    ) / period\n",
    "end\n",
    "\n",
    "function fsfreqtotime(Fvs, time, points, period)\n",
    "    return sum(\n",
    "        Fvs[i] * exp(1im * 2π / period * v * time) for (i, v) in enumerate(-points:points)\n",
    "    )\n",
    "end\n",
    "\n",
    "function createfourierseries(fn, range, points, period)\n",
    "    # generate Fvs\n",
    "    Fvs = [fstimetofreq(fn, v, range, period) for v in -points:points]\n",
    "    \n",
    "    return [\n",
    "        real(fsfreqtotime(Fvs, t, points, period)) for t in range\n",
    "    ]\n",
    "end\n",
    "\n",
    "function graphfourierseries(fn, points, range)\n",
    "    plot(range, fn.(range))\n",
    "    plot!(range, points)\n",
    "end\n",
    "\n",
    "f(x) = log(x)\n",
    "range = 1:0.01:10\n",
    "output = createfourierseries(f, range, 3, (range[end]-range[1]))\n",
    "graphfourierseries(f, output, range)"
   ]
  },
  {
   "cell_type": "code",
   "execution_count": null,
   "metadata": {},
   "outputs": [],
   "source": [
    "# compute the integral, assuming that the bounds are -infty to infty\n",
    "function improperintegral(fn)\n",
    "    # sub x = tan u\n",
    "    # ∫ f(tan u ) / cos^2 u du, from -π/2 to π/2\n",
    "    return simpleintegration(\n",
    "        u -> fn(tan(u)) / (cos(u)^2),\n",
    "        -π/2,\n",
    "        π/2\n",
    "    )\n",
    "\n",
    "end\n",
    "\n",
    "\n",
    "function computeintegral(N)\n",
    "    # compute to find pi\n",
    "    area = [\n",
    "        improperintegral(\n",
    "            x -> reduce(*, [\n",
    "                sin(x/(2i + 1))/(x/(2i + 1)) for i in 0:hi\n",
    "            ];init=1)\n",
    "        )\n",
    "        for hi in 0:N\n",
    "    ]\n",
    "    return area\n",
    "end\n",
    "\n",
    "# improperintegral(x -> exp(-x^2))\n",
    "computeintegral(10)\n",
    "improperintegral(\n",
    "            x -> reduce(*, [\n",
    "                sin(x/(2i + 1))/(x/(2i + 1)) for i in 0:0\n",
    "            ];init=1)\n",
    "        )"
   ]
  },
  {
   "cell_type": "code",
   "execution_count": null,
   "metadata": {},
   "outputs": [],
   "source": [
    "collect(0:0)"
   ]
  },
  {
   "cell_type": "code",
   "execution_count": null,
   "metadata": {},
   "outputs": [],
   "source": []
  }
 ],
 "metadata": {
  "kernelspec": {
   "display_name": "Julia 1.7.3",
   "language": "julia",
   "name": "julia-1.7"
  },
  "language_info": {
   "file_extension": ".jl",
   "mimetype": "application/julia",
   "name": "julia",
   "version": "1.7.3"
  },
  "orig_nbformat": 4
 },
 "nbformat": 4,
 "nbformat_minor": 2
}
