{
 "cells": [
  {
   "cell_type": "markdown",
   "metadata": {},
   "source": [
    "## Bloom Filters\n",
    "\n",
    "A bloom filter is a set data structure with constant $\\Omicron(1)$ lookup performance that has no false negatives (always detects memberships if actually a member) but can have false positives (can detect membership but actually not a member), along with $\\Omicron(1)$ insert complexity.\n",
    "\n",
    "It specializes in having a constant memory cost, of which the size directly corrosponds with the false positive rate assuming a perfect hashing function.\n"
   ]
  },
  {
   "cell_type": "code",
   "execution_count": 28,
   "metadata": {},
   "outputs": [
    {
     "name": "stdout",
     "output_type": "stream",
     "text": [
      "True\n",
      "True\n",
      "True\n",
      "bytearray(b'\\x07\\x00\\x08E\\x00\\x01\\x0c\\x020\\xc8')\n"
     ]
    }
   ],
   "source": [
    "import hashlib\n",
    "\n",
    "\n",
    "class BloomFilter:\n",
    "    memory: bytearray\n",
    "    size: int\n",
    "\n",
    "    def __init__(self, size: int):\n",
    "        self.memory = bytearray(size)\n",
    "        self.size = size\n",
    "\n",
    "    def add(self, filter: str):\n",
    "        h = hashlib.sha512(filter.encode('utf-8')).digest()\n",
    "\n",
    "        for i in range(16):\n",
    "            pos = int.from_bytes(h[32*i:32*(i+1)], 'little') % (8*self.size)\n",
    "            self.memory[pos//8] |= (1 << (pos % 8))\n",
    "\n",
    "    def __contains__(self, item: str):\n",
    "        h = hashlib.sha512(item.encode('utf-8')).digest()\n",
    "\n",
    "        for i in range(16):\n",
    "            pos = int.from_bytes(h[32*i:32*(i+1)], 'little') % (8*self.size)\n",
    "            if self.memory[pos//8] & (1 << (pos % 8)) == 0:\n",
    "                return False\n",
    "\n",
    "        return True\n",
    "\n",
    "\n",
    "\n",
    "fil = BloomFilter(10)\n",
    "fil.add(\"hi\")\n",
    "fil.add(\"hello\")\n",
    "fil.add(\"what\")\n",
    "fil.add(\"fdsa\")\n",
    "fil.add(\"ere\")\n",
    "fil.add(\"adsf\")\n",
    "fil.add(\"bfdbfd\")\n",
    "fil.add(\"uytuty\")\n",
    "\n",
    "\n",
    "print(\"o98\" in fil)  # collision\n",
    "print(\"hello\" in fil)\n",
    "print(\"hi\" in fil)\n",
    "print(fil.memory)\n",
    "# f\"{hashlib.sha512('hi'.encode('utf-8')).digest().hex()}\"\n",
    "# split the sha512 hash into 512/32 16 hash functions, each of 32 bits, and set those bits mod the memory size"
   ]
  },
  {
   "cell_type": "code",
   "execution_count": null,
   "metadata": {},
   "outputs": [],
   "source": []
  }
 ],
 "metadata": {
  "kernelspec": {
   "display_name": "scientific",
   "language": "python",
   "name": "python3"
  },
  "language_info": {
   "codemirror_mode": {
    "name": "ipython",
    "version": 3
   },
   "file_extension": ".py",
   "mimetype": "text/x-python",
   "name": "python",
   "nbconvert_exporter": "python",
   "pygments_lexer": "ipython3",
   "version": "3.9.7"
  }
 },
 "nbformat": 4,
 "nbformat_minor": 2
}
