{
 "cells": [
  {
   "cell_type": "code",
   "execution_count": 1,
   "metadata": {},
   "outputs": [],
   "source": [
    "import math\n",
    "\n",
    "def compute_spl(\n",
    "    sens,  # in db SPL / V\n",
    "    impedence,\n",
    "    voltage = 3\n",
    "):\n",
    "    # multiplier\n",
    "    power_double_db = math.log(2, 10 ** (1/10))\n",
    "\n",
    "    # compute db SPL / mW\n",
    "    dbsplmw = sens + 10 * math.log10(impedence / 1000)\n",
    "\n",
    "    # compute power\n",
    "    power = voltage ** 2 / impedence * 1000\n",
    "\n",
    "    return dbsplmw + power_double_db * math.log2(power)\n",
    "\n"
   ]
  },
  {
   "cell_type": "markdown",
   "metadata": {},
   "source": [
    "# db chart\n",
    "\n",
    "Targets\n",
    "- Aim for >95db peek (best 100db).\n",
    "- Long term <85db for listening.\n",
    "\n",
    "Reference\n",
    "- 100db is car horns\n",
    "- 90db is lawnmowers\n",
    "- 80db is alarm clock / traffic\n"
   ]
  },
  {
   "cell_type": "code",
   "execution_count": 13,
   "metadata": {},
   "outputs": [
    {
     "name": "stdout",
     "output_type": "stream",
     "text": [
      "on laptop\n",
      "hd660s, 113.54242509439325\n",
      "dt990 pro, 105.54242509439325\n",
      "kato, 132.54242509439325\n",
      "hd600,  106.54242509439325\n",
      "\n",
      "on fiio\n",
      "hd660s, 103.0848501887865\n",
      "dt990 pro, 95.0848501887865\n",
      "kato, 122.0848501887865\n",
      "hd600,  96.0848501887865\n"
     ]
    }
   ],
   "source": [
    "laptop = 3\n",
    "fiio = 0.9\n",
    "\n",
    "print(\"on laptop\")\n",
    "print(\"hd660s,\", compute_spl(104, 150, laptop))\n",
    "print(\"dt990 pro,\", compute_spl(96, 80, laptop))\n",
    "print(\"kato,\", compute_spl(123, 32, laptop))\n",
    "print(\"hd600, \", compute_spl(97, 300, laptop))\n",
    "\n",
    "print()\n",
    "\n",
    "print(\"on fiio\")\n",
    "print(\"hd660s,\", compute_spl(104, 150, fiio))\n",
    "print(\"dt990 pro,\", compute_spl(96, 80, fiio))\n",
    "print(\"kato,\", compute_spl(123, 32, fiio))\n",
    "print(\"hd600, \", compute_spl(97, 300, fiio))\n"
   ]
  },
  {
   "cell_type": "code",
   "execution_count": null,
   "metadata": {},
   "outputs": [],
   "source": []
  }
 ],
 "metadata": {
  "kernelspec": {
   "display_name": "scientific310",
   "language": "python",
   "name": "python3"
  },
  "language_info": {
   "codemirror_mode": {
    "name": "ipython",
    "version": 3
   },
   "file_extension": ".py",
   "mimetype": "text/x-python",
   "name": "python",
   "nbconvert_exporter": "python",
   "pygments_lexer": "ipython3",
   "version": "3.10.10"
  }
 },
 "nbformat": 4,
 "nbformat_minor": 2
}
