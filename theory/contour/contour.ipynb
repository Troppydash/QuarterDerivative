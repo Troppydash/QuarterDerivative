{
 "cells": [
  {
   "cell_type": "code",
   "execution_count": 2,
   "metadata": {},
   "outputs": [
    {
     "name": "stdout",
     "output_type": "stream",
     "text": [
      "2.220446049250313e-16\n"
     ]
    },
    {
     "data": {
      "text/plain": [
       "sys.float_info(max=1.7976931348623157e+308, max_exp=1024, max_10_exp=308, min=2.2250738585072014e-308, min_exp=-1021, min_10_exp=-307, dig=15, mant_dig=53, epsilon=2.220446049250313e-16, radix=2, rounds=1)"
      ]
     },
     "execution_count": 2,
     "metadata": {},
     "output_type": "execute_result"
    }
   ],
   "source": [
    "def machine_epsilon() -> float:\n",
    "    eps = 1.0\n",
    "    while eps + 1 > 1:\n",
    "        eps /= 2\n",
    "    eps *= 2\n",
    "    return eps\n",
    "\n",
    "print(machine_epsilon())\n",
    "\n",
    "import sys\n",
    "sys.float_info.epsilon"
   ]
  },
  {
   "cell_type": "code",
   "execution_count": 32,
   "metadata": {},
   "outputs": [],
   "source": [
    "import cmath\n",
    "import sys\n",
    "from IPython.display import Latex\n",
    "\n",
    "\n",
    "# complex polynomial\n",
    "\n",
    "# [c_0, c_1, c_2, ...]\n",
    "Poly = list[complex]\n",
    "\n",
    "def roots_multiply(roots: list[complex]):\n",
    "    \"\"\"\n",
    "    factor a root from the polynomial, calculates (z-w0)(z-w1)...\n",
    "    \"\"\"\n",
    "\n",
    "    cumul = [1 + 0j]\n",
    "    for root in roots:\n",
    "        cumul = poly_multiply(cumul, [-root, 1+0j])\n",
    "\n",
    "    return cumul\n",
    "\n",
    "\n",
    "def poly_multiply(p1: Poly, p2: Poly):\n",
    "    deg1 = len(p1) - 1\n",
    "    deg2 = len(p2) - 1\n",
    "    degfinal = (deg1 + deg2) + 1\n",
    "\n",
    "    result = [0+0j] * degfinal\n",
    "\n",
    "    for bi, b in enumerate(p2):\n",
    "        for ai, a in enumerate(p1):\n",
    "            result[bi+ai] += a * b \n",
    "    \n",
    "    return result\n",
    "\n",
    "def poly_eval(poly: Poly, x: complex):\n",
    "    cumul = 0\n",
    "    \n",
    "    for i, c in enumerate(poly):\n",
    "        cumul += x ** i * c\n",
    "\n",
    "    return cumul\n",
    "\n",
    "def poly_display(poly: Poly):\n",
    "    output = []\n",
    "\n",
    "    eps = sys.float_info.epsilon\n",
    "    for i, c in enumerate(poly):\n",
    "        if abs(c) < 2*eps:\n",
    "            continue\n",
    "        \n",
    "        real, imag = c.real, c.imag\n",
    "        output.append(f\"({round(real, 2)} + {round(imag, 2)}\\\\,i) z^{{{i}}}\")\n",
    "\n",
    "    text = \" + \".join(output)\n",
    "    return Latex(f\"${text}$\")\n",
    "\n",
    "\n",
    "# t1 = [2, 3]\n",
    "# t2 = [1j, 2]\n",
    "\n",
    "# poly_display(poly_multiply(t1, t2))\n"
   ]
  },
  {
   "cell_type": "code",
   "execution_count": 35,
   "metadata": {},
   "outputs": [
    {
     "name": "stdout",
     "output_type": "stream",
     "text": [
      "(-0.1443375672974064-0.08333333333333337j)\n",
      "(3.517850485809443e-17-0.16666666666666666j)\n",
      "(0.1443375672974064-0.08333333333333333j)\n"
     ]
    }
   ],
   "source": [
    "roots = [\n",
    "    cmath.rect(1, cmath.pi/6), cmath.rect(1, cmath.pi/2), cmath.rect(1, cmath.pi * 5 / 6),\n",
    "    -cmath.rect(1, cmath.pi/6), -cmath.rect(1, cmath.pi/2), -cmath.rect(1, cmath.pi * 5 / 6),\n",
    "]\n",
    "\n",
    "def residue(index, roots):\n",
    "    p5 = roots_multiply(\n",
    "        [*roots[:index], *roots[index+1:]]\n",
    "    )\n",
    "    return 1 / poly_eval(p5, roots[index])\n",
    "\n",
    "print(residue(0, roots))\n",
    "print(residue(1, roots))\n",
    "print(residue(2, roots))"
   ]
  },
  {
   "cell_type": "code",
   "execution_count": null,
   "metadata": {},
   "outputs": [],
   "source": []
  }
 ],
 "metadata": {
  "kernelspec": {
   "display_name": "scientific",
   "language": "python",
   "name": "python3"
  },
  "language_info": {
   "codemirror_mode": {
    "name": "ipython",
    "version": 3
   },
   "file_extension": ".py",
   "mimetype": "text/x-python",
   "name": "python",
   "nbconvert_exporter": "python",
   "pygments_lexer": "ipython3",
   "version": "3.9.7"
  },
  "orig_nbformat": 4,
  "vscode": {
   "interpreter": {
    "hash": "64b29409bd62c2368b0e7ef08996fa1e527d3d64735fab741571f69825739a65"
   }
  }
 },
 "nbformat": 4,
 "nbformat_minor": 2
}
